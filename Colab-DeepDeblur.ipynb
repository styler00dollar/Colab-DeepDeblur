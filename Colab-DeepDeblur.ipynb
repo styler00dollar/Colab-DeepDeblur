{
  "nbformat": 4,
  "nbformat_minor": 0,
  "metadata": {
    "colab": {
      "name": "Colab-DeepDeblur.ipynb",
      "provenance": [],
      "private_outputs": true,
      "collapsed_sections": [],
      "toc_visible": true
    },
    "kernelspec": {
      "name": "python3",
      "display_name": "Python 3"
    },
    "accelerator": "GPU"
  },
  "cells": [
    {
      "cell_type": "markdown",
      "metadata": {
        "id": "8Hj0aUBfYVw4",
        "colab_type": "text"
      },
      "source": [
        "# Colab-DeepDeblur\n",
        "Original repo: [SeungjunNah/DeepDeblur-PyTorch](https://github.com/SeungjunNah/DeepDeblur-PyTorch)\n",
        "\n",
        "My colab fork: [styler00dollar/Colab-DeepDeblur](https://github.com/styler00dollar/Colab-DeepDeblur)"
      ]
    },
    {
      "cell_type": "code",
      "metadata": {
        "id": "UBY0PeRcYcFi",
        "colab_type": "code",
        "colab": {}
      },
      "source": [
        "# check gpu\n",
        "!nvidia-smi"
      ],
      "execution_count": null,
      "outputs": []
    },
    {
      "cell_type": "code",
      "metadata": {
        "id": "RMmylXlNjoHr",
        "colab_type": "code",
        "colab": {},
        "cellView": "form"
      },
      "source": [
        "#@title Connect Google Drive\n",
        "from google.colab import drive\n",
        "drive.mount('/content/drive')\n",
        "print('Google Drive connected.')"
      ],
      "execution_count": null,
      "outputs": []
    },
    {
      "cell_type": "code",
      "metadata": {
        "id": "d1A4pffJgBIy",
        "colab_type": "code",
        "colab": {},
        "cellView": "form"
      },
      "source": [
        "#@title Install\n",
        "%cd /content/\n",
        "!git clone https://github.com/styler00dollar/Colab-DeepDeblur\n",
        "!pip install tqdm\n",
        "!pip install imageio\n",
        "!pip install scikit-image==0.16.2\n",
        "!pip install numpy\n",
        "!pip install matplotlib\n",
        "!pip install readline\n",
        "!pip install gdown\n",
        "%cd /content/Colab-DeepDeblur/experiment\n",
        "!gdown --id 1do_HOjVFj2AYTX4BbwQ0enELRWtzhW6F\n",
        "!unzip REDS_L1_amp.zip\n",
        "!mkdir /content/Colab-DeepDeblur/input\n",
        "!mkdir /content/Colab-DeepDeblur/output\n",
        "!mkdir \"/content/drive/My Drive/Colab-DeepDeblur\"\n",
        "!mkdir \"/content/drive/My Drive/Colab-DeepDeblur/input\"\n",
        "!mkdir \"/content/drive/My Drive/Colab-DeepDeblur/output\""
      ],
      "execution_count": null,
      "outputs": []
    },
    {
      "cell_type": "markdown",
      "metadata": {
        "id": "mDVKyBB-j6oJ",
        "colab_type": "text"
      },
      "source": [
        "Place files in ```Google Drive/Colab-DeepDeblur/input```"
      ]
    },
    {
      "cell_type": "code",
      "metadata": {
        "id": "E8E04V1tYkey",
        "colab_type": "code",
        "colab": {},
        "cellView": "form"
      },
      "source": [
        "#@title Copy data from Drive, deblur (with REDS_L1_amp), copy back\n",
        "!cp -avr \"/content/drive/My Drive/Colab-DeepDeblur/input\" \"/content/Colab-DeepDeblur\"\n",
        "%cd /content/Colab-DeepDeblur/src\n",
        "!python main.py --save_dir REDS_L1_amp --demo true --demo_input_dir /content/Colab-DeepDeblur/input\n",
        "!cp -avr /root/*.png \"/content/drive/My Drive/Colab-DeepDeblur/output\""
      ],
      "execution_count": null,
      "outputs": []
    }
  ]
}
